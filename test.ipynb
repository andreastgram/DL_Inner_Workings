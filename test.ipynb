{
 "cells": [
  {
   "cell_type": "code",
   "execution_count": 1,
   "metadata": {},
   "outputs": [
    {
     "name": "stderr",
     "output_type": "stream",
     "text": [
      "<ipython-input-1-d4cdb34f8836>:4: TqdmExperimentalWarning: Using `tqdm.autonotebook.tqdm` in notebook mode. Use `tqdm.tqdm` instead to force console mode (e.g. in jupyter console)\n",
      "  from tqdm.autonotebook import tqdm\n"
     ]
    }
   ],
   "source": [
    "import seaborn as sns \n",
    "import matplotlib.pyplot as plt \n",
    "import numpy as np \n",
    "from tqdm.autonotebook import tqdm \n",
    "import pandas as pd\n",
    "import torch"
   ]
  },
  {
   "cell_type": "code",
   "execution_count": 8,
   "metadata": {},
   "outputs": [
    {
     "name": "stdout",
     "output_type": "stream",
     "text": [
      "CPU time: 2.09 s\n"
     ]
    }
   ],
   "source": [
    "import timeit \n",
    "x = torch.rand(2**11, 2**11) \n",
    "time_cpu = timeit.timeit(\"x@x\", globals=globals(), number=100)\n",
    "print(f\"CPU time: {time_cpu:.2f} s\")"
   ]
  },
  {
   "cell_type": "code",
   "execution_count": 7,
   "metadata": {},
   "outputs": [
    {
     "name": "stdout",
     "output_type": "stream",
     "text": [
      "Is GPU available? : True\n"
     ]
    }
   ],
   "source": [
    "print(\"Is GPU available? :\", torch.backends.mps.is_available()) \n",
    "device = torch.device(\"mps\") "
   ]
  },
  {
   "cell_type": "code",
   "execution_count": 9,
   "metadata": {},
   "outputs": [
    {
     "name": "stdout",
     "output_type": "stream",
     "text": [
      "GPU time: 0.09 s\n"
     ]
    }
   ],
   "source": [
    "x = x.to(device) \n",
    "time_gpu = timeit.timeit(\"x@x\", globals=globals(), number=100)\n",
    "print(f\"GPU time: {time_gpu:.2f} s\")"
   ]
  },
  {
   "cell_type": "code",
   "execution_count": 10,
   "metadata": {},
   "outputs": [],
   "source": [
    "# Move to function\n",
    "\n",
    "def moveTo(obj, device): \n",
    "    \"\"\" \n",
    "    obj: the python object to move to a device, or to move its\n",
    "    ➥ contents to a device\n",
    "    device: the compute device to move objects to \n",
    "    \"\"\"\n",
    "    if isinstance(obj, list): \n",
    "        return [moveTo(x, device) for x in obj] \n",
    "    elif isinstance(obj, tuple): \n",
    "        return tuple(moveTo(list(obj), device)) \n",
    "    elif isinstance(obj, set): \n",
    "        return set(moveTo(list(obj), device)) \n",
    "    elif isinstance(obj, dict): \n",
    "        to_ret = dict() \n",
    "        for key, value in obj.items(): \n",
    "            to_ret[moveTo(key, device)] = moveTo(value, device) \n",
    "        return to_ret \n",
    "    elif hasattr(obj, \"to\"): \n",
    "        return obj.to(device) \n",
    "    else: \n",
    "        return obj"
   ]
  },
  {
   "cell_type": "code",
   "execution_count": 11,
   "metadata": {},
   "outputs": [],
   "source": [
    "some_tensors = [torch.tensor(1), torch.tensor(2)] \n"
   ]
  },
  {
   "cell_type": "code",
   "execution_count": 13,
   "metadata": {},
   "outputs": [
    {
     "name": "stdout",
     "output_type": "stream",
     "text": [
      "[tensor(1, device='mps:0'), tensor(2, device='mps:0')]\n"
     ]
    }
   ],
   "source": [
    "print(moveTo(some_tensors, device)) "
   ]
  }
 ],
 "metadata": {
  "kernelspec": {
   "display_name": "Python 3",
   "language": "python",
   "name": "python3"
  },
  "language_info": {
   "codemirror_mode": {
    "name": "ipython",
    "version": 3
   },
   "file_extension": ".py",
   "mimetype": "text/x-python",
   "name": "python",
   "nbconvert_exporter": "python",
   "pygments_lexer": "ipython3",
   "version": "3.9.12"
  },
  "orig_nbformat": 4
 },
 "nbformat": 4,
 "nbformat_minor": 2
}
