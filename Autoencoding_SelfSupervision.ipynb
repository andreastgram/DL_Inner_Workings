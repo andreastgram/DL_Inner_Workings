{
 "cells": [
  {
   "cell_type": "code",
   "execution_count": 1,
   "metadata": {},
   "outputs": [],
   "source": [
    "import optuna\n",
    "\n",
    "import torch\n",
    "import torch.nn as nn\n",
    "import torch.nn.functional as F\n",
    "import torchvision \n",
    "from torchvision import transforms\n",
    "\n",
    "from torch.utils.data import Dataset, DataLoader\n",
    "\n",
    "from tqdm.autonotebook import tqdm\n",
    "\n",
    "import numpy as np\n",
    "import seaborn as sns\n",
    "import matplotlib.pyplot as plt\n",
    "from matplotlib.pyplot import imshow\n",
    "\n",
    "import pandas as pd\n",
    "\n",
    "from sklearn.metrics import accuracy_score\n",
    "\n",
    "import time\n",
    "\n",
    "import idlmam"
   ]
  },
  {
   "cell_type": "code",
   "execution_count": 2,
   "metadata": {},
   "outputs": [],
   "source": [
    "if torch.backends.mps.is_available(): \n",
    "    device = torch.device(\"mps\") \n",
    "else:\n",
    "    device = torch.device(\"cpu\")"
   ]
  },
  {
   "cell_type": "code",
   "execution_count": 3,
   "metadata": {},
   "outputs": [],
   "source": [
    "D = 28 * 28\n",
    "n = 2 \n",
    "C = 1 \n",
    "classes = 10 "
   ]
  },
  {
   "cell_type": "code",
   "execution_count": 4,
   "metadata": {},
   "outputs": [],
   "source": [
    "class TransposeLinear(nn.Module):                    \n",
    "    def __init__(self, linearLayer, bias=True):\n",
    "\n",
    "        \"\"\" \n",
    "        linearLayer: is the layer that we want to use the transpose of to \n",
    "        ➥ produce the output of this layer. So the Linear layer represents \n",
    "        ➥ W, and this layer represents W^T. This is accomplished via \n",
    "        ➥ weight sharing by reusing the weights of linearLayer \n",
    "        bias: if True, we will create a new bias term b that is learned \n",
    "        separately from what is in \n",
    "        linearLayer. If false, we will not use any bias vector. \n",
    "        \"\"\" \n",
    "\n",
    "        super().__init__() \n",
    "        self.weight = linearLayer.weight                \n",
    "\n",
    "        if bias: \n",
    "            self.bias = nn.Parameter(torch.Tensor(\n",
    "                                    linearLayer.weight.shape[1]))           \n",
    "\n",
    "\n",
    "        else:\n",
    "            self.register_parameter('bias', None)      \n",
    "\n",
    "\n",
    "    def forward(self, x):                              \n",
    "        return F.linear(x, self.weight.t(), self.bias) "
   ]
  },
  {
   "cell_type": "code",
   "execution_count": 5,
   "metadata": {},
   "outputs": [],
   "source": [
    "linearLayer = nn.Linear(D, n, bias=False)\n",
    "\n",
    "pca_encoder = nn.Sequential(\n",
    "    nn.Flatten(), linearLayer,\n",
    ")\n",
    "\n",
    "pca_decoder = nn.Sequential(\n",
    "    TransposeLinear(linearLayer, bias=False),\n",
    "    idlmam.View((-1, 1, 28, 28)),\n",
    ")\n",
    "\n",
    "pca_model = nn.Sequential(\n",
    "    pca_encoder, \n",
    "    pca_decoder\n",
    ")\n"
   ]
  },
  {
   "attachments": {},
   "cell_type": "markdown",
   "metadata": {},
   "source": [
    "To make it truly PCA, we need to add the WW⊤ = I constraint, orthogonality. "
   ]
  },
  {
   "cell_type": "code",
   "execution_count": 6,
   "metadata": {},
   "outputs": [
    {
     "data": {
      "text/plain": [
       "Parameter containing:\n",
       "tensor([[ 0.0784,  0.0700, -0.0519,  ..., -0.0078, -0.0556,  0.0114],\n",
       "        [ 0.0016,  0.0611, -0.0224,  ...,  0.0015,  0.0320, -0.0205]],\n",
       "       requires_grad=True)"
      ]
     },
     "execution_count": 6,
     "metadata": {},
     "output_type": "execute_result"
    }
   ],
   "source": [
    "nn.init.orthogonal_(linearLayer.weight)"
   ]
  },
  {
   "attachments": {},
   "cell_type": "markdown",
   "metadata": {},
   "source": [
    "However - not requiring orthogonality during training, just encouraging. How? By converting the W transpose W = I into a penatly or regularizer."
   ]
  },
  {
   "cell_type": "code",
   "execution_count": 7,
   "metadata": {},
   "outputs": [],
   "source": [
    "mse_loss = nn.MSELoss() #Original loss function\n",
    "\n",
    "def mseWithOrthoLoss(x, y):#our PCA loss function\n",
    "    #Grabing W from the linearLayer object we saved earlier. \n",
    "    W = linearLayer.weight\n",
    "    #The identity matrix that is the target for the regularized\n",
    "    I = torch.eye(W.shape[0]).to(device)\n",
    "    #compute the original loss $\\ell_{\\mathit{MSE}}(f(\\boldsymbol{x}), \\boldsymbol{x})$\n",
    "    normal_loss =  mse_loss(x, y) \n",
    "    #compute the regularizer penalty $\\ell_{\\mathit{MSE}}(W^\\top W, \\boldsymbol{I})$\n",
    "    regularization_loss = 0.1*mse_loss(torch.mm(W, W.t()), I)\n",
    "    #return the sum of the two losses\n",
    "    return normal_loss + regularization_loss"
   ]
  },
  {
   "cell_type": "code",
   "execution_count": 8,
   "metadata": {},
   "outputs": [],
   "source": [
    "class AutoEncodeDataset(Dataset):\n",
    "    \"\"\"Takes a dataset with (x, y) label pairs and converts it to (x, x) pairs. \n",
    "    This makes it easy to re-use other code\"\"\"\n",
    "\n",
    "    def __init__(self, dataset):\n",
    "        self.dataset = dataset\n",
    "\n",
    "    def __len__(self):\n",
    "        return len(self.dataset)\n",
    "\n",
    "    def __getitem__(self, idx):\n",
    "        x, y = self.dataset.__getitem__(idx)\n",
    "        return x, x#just throw away the original label. "
   ]
  },
  {
   "cell_type": "code",
   "execution_count": 9,
   "metadata": {},
   "outputs": [
    {
     "name": "stdout",
     "output_type": "stream",
     "text": [
      "Downloading http://yann.lecun.com/exdb/mnist/train-images-idx3-ubyte.gz\n",
      "Downloading http://yann.lecun.com/exdb/mnist/train-images-idx3-ubyte.gz to ./MNIST/raw/train-images-idx3-ubyte.gz\n"
     ]
    },
    {
     "data": {
      "application/vnd.jupyter.widget-view+json": {
       "model_id": "45e813c10d1848c69c8437183cd24ad2",
       "version_major": 2,
       "version_minor": 0
      },
      "text/plain": [
       "  0%|          | 0/9912422 [00:00<?, ?it/s]"
      ]
     },
     "metadata": {},
     "output_type": "display_data"
    },
    {
     "name": "stdout",
     "output_type": "stream",
     "text": [
      "Extracting ./MNIST/raw/train-images-idx3-ubyte.gz to ./MNIST/raw\n",
      "\n",
      "Downloading http://yann.lecun.com/exdb/mnist/train-labels-idx1-ubyte.gz\n",
      "Downloading http://yann.lecun.com/exdb/mnist/train-labels-idx1-ubyte.gz to ./MNIST/raw/train-labels-idx1-ubyte.gz\n"
     ]
    },
    {
     "data": {
      "application/vnd.jupyter.widget-view+json": {
       "model_id": "2bc9ff883a124b9f9d29b5e70f23876e",
       "version_major": 2,
       "version_minor": 0
      },
      "text/plain": [
       "  0%|          | 0/28881 [00:00<?, ?it/s]"
      ]
     },
     "metadata": {},
     "output_type": "display_data"
    },
    {
     "name": "stdout",
     "output_type": "stream",
     "text": [
      "Extracting ./MNIST/raw/train-labels-idx1-ubyte.gz to ./MNIST/raw\n",
      "\n",
      "Downloading http://yann.lecun.com/exdb/mnist/t10k-images-idx3-ubyte.gz\n",
      "Downloading http://yann.lecun.com/exdb/mnist/t10k-images-idx3-ubyte.gz to ./MNIST/raw/t10k-images-idx3-ubyte.gz\n"
     ]
    },
    {
     "data": {
      "application/vnd.jupyter.widget-view+json": {
       "model_id": "b4248a7d3aa24405a0d535e7147dd4e7",
       "version_major": 2,
       "version_minor": 0
      },
      "text/plain": [
       "  0%|          | 0/1648877 [00:00<?, ?it/s]"
      ]
     },
     "metadata": {},
     "output_type": "display_data"
    },
    {
     "name": "stdout",
     "output_type": "stream",
     "text": [
      "Extracting ./MNIST/raw/t10k-images-idx3-ubyte.gz to ./MNIST/raw\n",
      "\n",
      "Downloading http://yann.lecun.com/exdb/mnist/t10k-labels-idx1-ubyte.gz\n",
      "Downloading http://yann.lecun.com/exdb/mnist/t10k-labels-idx1-ubyte.gz to ./MNIST/raw/t10k-labels-idx1-ubyte.gz\n"
     ]
    },
    {
     "data": {
      "application/vnd.jupyter.widget-view+json": {
       "model_id": "a5233e48f3704eaea86f596fb701b08c",
       "version_major": 2,
       "version_minor": 0
      },
      "text/plain": [
       "  0%|          | 0/4542 [00:00<?, ?it/s]"
      ]
     },
     "metadata": {},
     "output_type": "display_data"
    },
    {
     "name": "stdout",
     "output_type": "stream",
     "text": [
      "Extracting ./MNIST/raw/t10k-labels-idx1-ubyte.gz to ./MNIST/raw\n",
      "\n"
     ]
    }
   ],
   "source": [
    "\n",
    "train_data = AutoEncodeDataset(torchvision.datasets.MNIST(\"./\", train=True, transform=transforms.ToTensor(), download=True))\n",
    "test_data_xy = torchvision.datasets.MNIST(\"./\", train=False, transform=transforms.ToTensor(), download=True)\n",
    "test_data_xx = AutoEncodeDataset(test_data_xy)\n",
    "\n",
    "train_loader = DataLoader(train_data, batch_size=128, shuffle=True)\n",
    "test_loader = DataLoader(test_data_xx, batch_size=128)"
   ]
  },
  {
   "cell_type": "code",
   "execution_count": 10,
   "metadata": {},
   "outputs": [
    {
     "data": {
      "application/vnd.jupyter.widget-view+json": {
       "model_id": "4af135da828940b493d70ae72247ca29",
       "version_major": 2,
       "version_minor": 0
      },
      "text/plain": [
       "Epoch:   0%|          | 0/10 [00:00<?, ?it/s]"
      ]
     },
     "metadata": {},
     "output_type": "display_data"
    },
    {
     "data": {
      "application/vnd.jupyter.widget-view+json": {
       "model_id": "1c4ada19c8e8403fa2e976771db5e9b4",
       "version_major": 2,
       "version_minor": 0
      },
      "text/plain": [
       "Training:   0%|          | 0/469 [00:00<?, ?it/s]"
      ]
     },
     "metadata": {},
     "output_type": "display_data"
    },
    {
     "data": {
      "application/vnd.jupyter.widget-view+json": {
       "model_id": "f7093973f35a4582b772208b03df1ba5",
       "version_major": 2,
       "version_minor": 0
      },
      "text/plain": [
       "Validating:   0%|          | 0/79 [00:00<?, ?it/s]"
      ]
     },
     "metadata": {},
     "output_type": "display_data"
    },
    {
     "data": {
      "application/vnd.jupyter.widget-view+json": {
       "model_id": "dbb64a40a7364e419b567a776a8017bb",
       "version_major": 2,
       "version_minor": 0
      },
      "text/plain": [
       "Training:   0%|          | 0/469 [00:00<?, ?it/s]"
      ]
     },
     "metadata": {},
     "output_type": "display_data"
    },
    {
     "data": {
      "application/vnd.jupyter.widget-view+json": {
       "model_id": "1162bcbf12db4bf68846e10f491a068b",
       "version_major": 2,
       "version_minor": 0
      },
      "text/plain": [
       "Validating:   0%|          | 0/79 [00:00<?, ?it/s]"
      ]
     },
     "metadata": {},
     "output_type": "display_data"
    },
    {
     "data": {
      "application/vnd.jupyter.widget-view+json": {
       "model_id": "3b9f4b4ae9ac4e8f80853c7c89267f8c",
       "version_major": 2,
       "version_minor": 0
      },
      "text/plain": [
       "Training:   0%|          | 0/469 [00:00<?, ?it/s]"
      ]
     },
     "metadata": {},
     "output_type": "display_data"
    },
    {
     "data": {
      "application/vnd.jupyter.widget-view+json": {
       "model_id": "6a5cbde2ad504fd48d5687b88d0024a2",
       "version_major": 2,
       "version_minor": 0
      },
      "text/plain": [
       "Validating:   0%|          | 0/79 [00:00<?, ?it/s]"
      ]
     },
     "metadata": {},
     "output_type": "display_data"
    },
    {
     "data": {
      "application/vnd.jupyter.widget-view+json": {
       "model_id": "212d1b823f954b1a859fb39509306e38",
       "version_major": 2,
       "version_minor": 0
      },
      "text/plain": [
       "Training:   0%|          | 0/469 [00:00<?, ?it/s]"
      ]
     },
     "metadata": {},
     "output_type": "display_data"
    },
    {
     "data": {
      "application/vnd.jupyter.widget-view+json": {
       "model_id": "c0f375356ff740bebcc5e938ff15b92e",
       "version_major": 2,
       "version_minor": 0
      },
      "text/plain": [
       "Validating:   0%|          | 0/79 [00:00<?, ?it/s]"
      ]
     },
     "metadata": {},
     "output_type": "display_data"
    },
    {
     "data": {
      "application/vnd.jupyter.widget-view+json": {
       "model_id": "a1b5cf2127074024bd2a3ef15431557a",
       "version_major": 2,
       "version_minor": 0
      },
      "text/plain": [
       "Training:   0%|          | 0/469 [00:00<?, ?it/s]"
      ]
     },
     "metadata": {},
     "output_type": "display_data"
    },
    {
     "data": {
      "application/vnd.jupyter.widget-view+json": {
       "model_id": "95a67f319b8d4ab7a9fee8c97e219ec5",
       "version_major": 2,
       "version_minor": 0
      },
      "text/plain": [
       "Validating:   0%|          | 0/79 [00:00<?, ?it/s]"
      ]
     },
     "metadata": {},
     "output_type": "display_data"
    },
    {
     "data": {
      "application/vnd.jupyter.widget-view+json": {
       "model_id": "01cbe7650d464ce88c5d1ea36ee09be1",
       "version_major": 2,
       "version_minor": 0
      },
      "text/plain": [
       "Training:   0%|          | 0/469 [00:00<?, ?it/s]"
      ]
     },
     "metadata": {},
     "output_type": "display_data"
    },
    {
     "data": {
      "application/vnd.jupyter.widget-view+json": {
       "model_id": "94512479e89149dc919fdc14b7b195bd",
       "version_major": 2,
       "version_minor": 0
      },
      "text/plain": [
       "Validating:   0%|          | 0/79 [00:00<?, ?it/s]"
      ]
     },
     "metadata": {},
     "output_type": "display_data"
    },
    {
     "data": {
      "application/vnd.jupyter.widget-view+json": {
       "model_id": "7afa62eccdf94c8faa082ddc2d134a36",
       "version_major": 2,
       "version_minor": 0
      },
      "text/plain": [
       "Training:   0%|          | 0/469 [00:00<?, ?it/s]"
      ]
     },
     "metadata": {},
     "output_type": "display_data"
    },
    {
     "data": {
      "application/vnd.jupyter.widget-view+json": {
       "model_id": "297de4ccb15a40cfb6a444ce03413b8d",
       "version_major": 2,
       "version_minor": 0
      },
      "text/plain": [
       "Validating:   0%|          | 0/79 [00:00<?, ?it/s]"
      ]
     },
     "metadata": {},
     "output_type": "display_data"
    },
    {
     "data": {
      "application/vnd.jupyter.widget-view+json": {
       "model_id": "e8f68668391a44a4a676004959b3c19c",
       "version_major": 2,
       "version_minor": 0
      },
      "text/plain": [
       "Training:   0%|          | 0/469 [00:00<?, ?it/s]"
      ]
     },
     "metadata": {},
     "output_type": "display_data"
    },
    {
     "data": {
      "application/vnd.jupyter.widget-view+json": {
       "model_id": "3865679f7d164240a6fa98fc18cc2bc0",
       "version_major": 2,
       "version_minor": 0
      },
      "text/plain": [
       "Validating:   0%|          | 0/79 [00:00<?, ?it/s]"
      ]
     },
     "metadata": {},
     "output_type": "display_data"
    },
    {
     "data": {
      "application/vnd.jupyter.widget-view+json": {
       "model_id": "d31887ed1aef44769b9fb2d5162a5cc3",
       "version_major": 2,
       "version_minor": 0
      },
      "text/plain": [
       "Training:   0%|          | 0/469 [00:00<?, ?it/s]"
      ]
     },
     "metadata": {},
     "output_type": "display_data"
    },
    {
     "data": {
      "application/vnd.jupyter.widget-view+json": {
       "model_id": "da57c8495dda41df8faa276209edbe83",
       "version_major": 2,
       "version_minor": 0
      },
      "text/plain": [
       "Validating:   0%|          | 0/79 [00:00<?, ?it/s]"
      ]
     },
     "metadata": {},
     "output_type": "display_data"
    },
    {
     "data": {
      "application/vnd.jupyter.widget-view+json": {
       "model_id": "78f4a789bbc04d23ae5c485fa5e565e1",
       "version_major": 2,
       "version_minor": 0
      },
      "text/plain": [
       "Training:   0%|          | 0/469 [00:00<?, ?it/s]"
      ]
     },
     "metadata": {},
     "output_type": "display_data"
    },
    {
     "data": {
      "application/vnd.jupyter.widget-view+json": {
       "model_id": "bafe40207c124a00b1d251be49ff0585",
       "version_major": 2,
       "version_minor": 0
      },
      "text/plain": [
       "Validating:   0%|          | 0/79 [00:00<?, ?it/s]"
      ]
     },
     "metadata": {},
     "output_type": "display_data"
    },
    {
     "data": {
      "text/html": [
       "<div>\n",
       "<style scoped>\n",
       "    .dataframe tbody tr th:only-of-type {\n",
       "        vertical-align: middle;\n",
       "    }\n",
       "\n",
       "    .dataframe tbody tr th {\n",
       "        vertical-align: top;\n",
       "    }\n",
       "\n",
       "    .dataframe thead th {\n",
       "        text-align: right;\n",
       "    }\n",
       "</style>\n",
       "<table border=\"1\" class=\"dataframe\">\n",
       "  <thead>\n",
       "    <tr style=\"text-align: right;\">\n",
       "      <th></th>\n",
       "      <th>epoch</th>\n",
       "      <th>total time</th>\n",
       "      <th>train loss</th>\n",
       "      <th>val loss</th>\n",
       "    </tr>\n",
       "  </thead>\n",
       "  <tbody>\n",
       "    <tr>\n",
       "      <th>0</th>\n",
       "      <td>0</td>\n",
       "      <td>5.504264</td>\n",
       "      <td>0.063581</td>\n",
       "      <td>0.057783</td>\n",
       "    </tr>\n",
       "    <tr>\n",
       "      <th>1</th>\n",
       "      <td>1</td>\n",
       "      <td>9.619339</td>\n",
       "      <td>0.057882</td>\n",
       "      <td>0.057810</td>\n",
       "    </tr>\n",
       "    <tr>\n",
       "      <th>2</th>\n",
       "      <td>2</td>\n",
       "      <td>13.671118</td>\n",
       "      <td>0.057890</td>\n",
       "      <td>0.057798</td>\n",
       "    </tr>\n",
       "    <tr>\n",
       "      <th>3</th>\n",
       "      <td>3</td>\n",
       "      <td>17.658081</td>\n",
       "      <td>0.057885</td>\n",
       "      <td>0.057835</td>\n",
       "    </tr>\n",
       "    <tr>\n",
       "      <th>4</th>\n",
       "      <td>4</td>\n",
       "      <td>21.627910</td>\n",
       "      <td>0.057883</td>\n",
       "      <td>0.057847</td>\n",
       "    </tr>\n",
       "    <tr>\n",
       "      <th>5</th>\n",
       "      <td>5</td>\n",
       "      <td>25.595669</td>\n",
       "      <td>0.057888</td>\n",
       "      <td>0.057887</td>\n",
       "    </tr>\n",
       "    <tr>\n",
       "      <th>6</th>\n",
       "      <td>6</td>\n",
       "      <td>29.549322</td>\n",
       "      <td>0.057888</td>\n",
       "      <td>0.057827</td>\n",
       "    </tr>\n",
       "    <tr>\n",
       "      <th>7</th>\n",
       "      <td>7</td>\n",
       "      <td>33.507943</td>\n",
       "      <td>0.057888</td>\n",
       "      <td>0.057855</td>\n",
       "    </tr>\n",
       "    <tr>\n",
       "      <th>8</th>\n",
       "      <td>8</td>\n",
       "      <td>37.540178</td>\n",
       "      <td>0.057893</td>\n",
       "      <td>0.057817</td>\n",
       "    </tr>\n",
       "    <tr>\n",
       "      <th>9</th>\n",
       "      <td>9</td>\n",
       "      <td>41.802853</td>\n",
       "      <td>0.057889</td>\n",
       "      <td>0.057816</td>\n",
       "    </tr>\n",
       "  </tbody>\n",
       "</table>\n",
       "</div>"
      ],
      "text/plain": [
       "   epoch  total time  train loss  val loss\n",
       "0      0    5.504264    0.063581  0.057783\n",
       "1      1    9.619339    0.057882  0.057810\n",
       "2      2   13.671118    0.057890  0.057798\n",
       "3      3   17.658081    0.057885  0.057835\n",
       "4      4   21.627910    0.057883  0.057847\n",
       "5      5   25.595669    0.057888  0.057887\n",
       "6      6   29.549322    0.057888  0.057827\n",
       "7      7   33.507943    0.057888  0.057855\n",
       "8      8   37.540178    0.057893  0.057817\n",
       "9      9   41.802853    0.057889  0.057816"
      ]
     },
     "execution_count": 10,
     "metadata": {},
     "output_type": "execute_result"
    }
   ],
   "source": [
    "idlmam.train_network(pca_model, \n",
    "                     mseWithOrthoLoss,\n",
    "                     train_loader,\n",
    "                     test_loader,\n",
    "                     epochs=10,\n",
    "                     device=device)"
   ]
  },
  {
   "cell_type": "code",
   "execution_count": 11,
   "metadata": {},
   "outputs": [],
   "source": [
    "def encode_batch(encoder, dataset_to_encode):\n",
    "    \"\"\"\n",
    "    encoder: the PyTorch network that takes in a dataset and convers it to a new dimension\n",
    "    dataset_to_encode: a PyTorch `Dataset` object that we want to convert. \n",
    "\n",
    "    Returns a tuple (projected, labels) where `projected` is the encoded version of the dataset, and `labels` are the original labels provided by the `dataset_to_encode`\n",
    "    \"\"\"\n",
    "    #Create space to store the results\n",
    "    projected = []\n",
    "    labels = []\n",
    "    #Switch to eval mode\n",
    "    encoder = encoder.eval()\n",
    "    #Switching to CPU mode for simplicty, but you don't have to. \n",
    "    encoder = encoder.cpu()\n",
    "    with torch.no_grad():#We don't want to train, so torch.no_grad! \n",
    "        for x, y in  DataLoader(dataset_to_encode, batch_size=128):\n",
    "            z = encoder(x.cpu()) #encode the original data\n",
    "            projected.append( z.numpy() ) #store the encoded version & label\n",
    "            labels.append( y.cpu().numpy().ravel() )\n",
    "    #Turn the results into single large numpy arrays\n",
    "    projected = np.vstack(projected)\n",
    "    labels = np.hstack(labels)\n",
    "    #return the results\n",
    "    return projected, labels\n",
    "#Now lets project our data\n",
    "projected, labels = encode_batch(pca_encoder, test_data_xy)"
   ]
  },
  {
   "cell_type": "code",
   "execution_count": 12,
   "metadata": {},
   "outputs": [
    {
     "data": {
      "text/plain": [
       "<AxesSubplot:>"
      ]
     },
     "execution_count": 12,
     "metadata": {},
     "output_type": "execute_result"
    },
    {
     "data": {
      "image/png": "[encoded data removed]",
      "text/plain": [
       "<Figure size 432x288 with 1 Axes>"
      ]
     },
     "metadata": {
      "needs_background": "light"
     },
     "output_type": "display_data"
    }
   ],
   "source": [
    "sns.scatterplot(x=projected[:,0], y=projected[:,1], \n",
    "    hue=[str(l) for l in labels], \n",
    "    hue_order=[str(i) for i in range(10)], legend=\"full\")"
   ]
  },
  {
   "cell_type": "code",
   "execution_count": 13,
   "metadata": {},
   "outputs": [],
   "source": [
    "def showEncodeDecode(encode_decode, x): \n",
    "    \"\"\" \n",
    "    encode_decode: the PyTorch Module that does the encoding and decoding \n",
    "    ➥ steps at once \n",
    "    x: the input to plot as is, and after encoding & decoding it \n",
    "    \"\"\"\n",
    "\n",
    "    encode_decode = encode_decode.eval()  \n",
    "    encode_decode = encode_decode.cpu()  \n",
    "    with torch.no_grad():                 \n",
    "        x_recon = encode_decode(x.cpu()) \n",
    "    f, axarr = plt.subplots(1,2)         \n",
    "    axarr[0].imshow(x.numpy()[0,:]) \n",
    "    axarr[1].imshow(x_recon.numpy()[0,0,:])"
   ]
  },
  {
   "cell_type": "code",
   "execution_count": null,
   "metadata": {},
   "outputs": [],
   "source": []
  }
 ],
 "metadata": {
  "kernelspec": {
   "display_name": "Python 3",
   "language": "python",
   "name": "python3"
  },
  "language_info": {
   "codemirror_mode": {
    "name": "ipython",
    "version": 3
   },
   "file_extension": ".py",
   "mimetype": "text/x-python",
   "name": "python",
   "nbconvert_exporter": "python",
   "pygments_lexer": "ipython3",
   "version": "3.9.12"
  },
  "orig_nbformat": 4
 },
 "nbformat": 4,
 "nbformat_minor": 2
}
