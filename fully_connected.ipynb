{
 "cells": [
  {
   "attachments": {},
   "cell_type": "markdown",
   "metadata": {},
   "source": [
    "To implement any kind of neural network in PyTorch, we must phrase the problem as an optimization problem."
   ]
  },
  {
   "cell_type": "code",
   "execution_count": 6,
   "metadata": {},
   "outputs": [],
   "source": [
    "import torch \n",
    "import torch.nn as nn \n",
    "import torch.nn.functional as F\n",
    "import torch.utils.data\n",
    "from tqdm.autonotebook import tqdm \n",
    "#from idlmam import * "
   ]
  },
  {
   "cell_type": "code",
   "execution_count": 7,
   "metadata": {},
   "outputs": [],
   "source": [
    "# Helper move to function\n",
    "\n",
    "def moveTo(obj, device): \n",
    "    \"\"\" \n",
    "    obj: the python object to move to a device, or to move its\n",
    "    ➥ contents to a device\n",
    "    device: the compute device to move objects to \n",
    "    \"\"\"\n",
    "    if isinstance(obj, list): \n",
    "        return [moveTo(x, device) for x in obj] \n",
    "    elif isinstance(obj, tuple): \n",
    "        return tuple(moveTo(list(obj), device)) \n",
    "    elif isinstance(obj, set): \n",
    "        return set(moveTo(list(obj), device)) \n",
    "    elif isinstance(obj, dict): \n",
    "        to_ret = dict() \n",
    "        for key, value in obj.items(): \n",
    "            to_ret[moveTo(key, device)] = moveTo(value, device) \n",
    "        return to_ret \n",
    "    elif hasattr(obj, \"to\"): \n",
    "        return obj.to(device) \n",
    "    else: \n",
    "        return obj"
   ]
  },
  {
   "cell_type": "code",
   "execution_count": 8,
   "metadata": {},
   "outputs": [],
   "source": [
    "# The code for the simple training loop \n",
    "\n",
    "def train_simple_network(model, loss_func, training_loader, epochs=20, device=\"mps\"):\n",
    "    optimizer = torch.optim.SGD(model.parameters(), lr=0.001) # Creates the optimizer and moses the model to the device\n",
    "\n",
    "    model.to(device) # Places the model on the correct compute resource\n",
    "\n",
    "    for epoch in tqdm(range(epochs), desc=\"Epochs\"): # For each epoch\n",
    "        model = model.train() # Sets the model to training mode\n",
    "        running_loss = 0.0\n",
    "\n",
    "        for inputs, labels in tqdm(training_loader, desc=\"Batch\", leave=False): # For each batch\n",
    "            # Move the inputs and labels to the correct device\n",
    "            inputs = moveTo(inputs, device)\n",
    "            labels = moveTo(labels, device)     \n",
    "\n",
    "            # Zero the gradients - cleans up the gradients from the previous batch\n",
    "            optimizer.zero_grad()\n",
    "\n",
    "            y_hat = model(inputs) # Forward pass, computes f(xi) of Theta\n",
    "\n",
    "            loss = loss_func(y_hat, labels) # Computes the loss\n",
    "            loss.backward() # Computes the gradients\n",
    "            optimizer.step() # Updates the parameters\n",
    "            running_loss += loss.item()"
   ]
  },
  {
   "cell_type": "code",
   "execution_count": null,
   "metadata": {},
   "outputs": [],
   "source": []
  }
 ],
 "metadata": {
  "kernelspec": {
   "display_name": "Python 3",
   "language": "python",
   "name": "python3"
  },
  "language_info": {
   "codemirror_mode": {
    "name": "ipython",
    "version": 3
   },
   "file_extension": ".py",
   "mimetype": "text/x-python",
   "name": "python",
   "nbconvert_exporter": "python",
   "pygments_lexer": "ipython3",
   "version": "3.9.12"
  },
  "orig_nbformat": 4
 },
 "nbformat": 4,
 "nbformat_minor": 2
}
